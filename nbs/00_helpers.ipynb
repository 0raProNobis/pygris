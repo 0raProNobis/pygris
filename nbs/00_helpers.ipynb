{
 "cells": [
  {
   "cell_type": "code",
   "execution_count": null,
   "metadata": {},
   "outputs": [],
   "source": [
    "#| default_exp helpers"
   ]
  },
  {
   "cell_type": "markdown",
   "metadata": {},
   "source": [
    "# helpers.py\n",
    "\n",
    "> API details."
   ]
  },
  {
   "cell_type": "code",
   "execution_count": null,
   "metadata": {},
   "outputs": [],
   "source": [
    "#|hide\n",
    "from nbdev.showdoc import *"
   ]
  },
  {
   "cell_type": "code",
   "execution_count": null,
   "metadata": {},
   "outputs": [],
   "source": [
    "#|export\n",
    "import requests\n",
    "import geopandas as gp\n",
    "import os\n",
    "\n",
    "def load_tiger(url, cache = False):\n",
    "\n",
    "    if not cache:\n",
    "        tiger_data = gp.read_file(url)\n",
    "        return(tiger_data)\n",
    "    else:\n",
    "        cache_dir = appdirs.user_cache_dir(\"pygris\")\n",
    "\n",
    "        if not os.path.isdir(cache_dir):\n",
    "            os.mkdir(cache_dir) \n",
    "\n",
    "        basename = os.path.basename(url)\n",
    "\n",
    "        out_file = os.path.join(cache_dir, basename)\n",
    "        \n",
    "        # If the file doesn't exist, you'll need to download it\n",
    "        # and write it to the cache directory\n",
    "        if not os.path.isfile(out_file):\n",
    "            req = requests.get(url = url)\n",
    "\n",
    "            with open(out_file, 'wb') as fd:\n",
    "                fd.write(req.content)\n",
    "        \n",
    "        # Now, read in the file from the cache directory\n",
    "        tiger_data = gp.read_file(out_file)\n",
    "\n",
    "        return(tiger_data)         "
   ]
  },
  {
   "cell_type": "code",
   "execution_count": null,
   "metadata": {},
   "outputs": [],
   "source": [
    "#|export\n",
    "import pandas as pd\n",
    "def fips_codes():\n",
    "    return pd.read_csv('fips_codes.csv', dtype = 'object')"
   ]
  },
  {
   "cell_type": "code",
   "execution_count": null,
   "metadata": {},
   "outputs": [],
   "source": [
    "#|export\n",
    "def validate_state(state):\n",
    "    # Standardize as lowercase\n",
    "    original_input = state\n",
    "    state = state.lower()\n",
    "    # Get rid of whitespace\n",
    "    state = state.strip()\n",
    "\n",
    "    # If the FIPS code is supplied\n",
    "    if state.isdigit():\n",
    "        # Left-pad if necessary\n",
    "        state = state.zfill(2)\n",
    "\n",
    "        # Return the result\n",
    "        return state\n",
    "    else:\n",
    "        # Get the FIPS codes dataset\n",
    "        fips = fips_codes()\n",
    "        # If a state abbreviation, use the state postal code\n",
    "        if len(state) == 2:\n",
    "            fips['postal_lower'] = fips.state.str.lower()\n",
    "            state_sub = fips.query('postal_lower == @state')\n",
    "\n",
    "            if state_sub.shape[0] == 0:\n",
    "                raise ValueError(\"You have likely entered an invalid state code, please revise.\")\n",
    "            else:\n",
    "                state_fips = state_sub.state_code.unique()[0]\n",
    "            \n",
    "                print(f\"Using FIPS code '{state_fips}' for input '{original_input}'\")\n",
    "                return state_fips\n",
    "        else:\n",
    "            # If a state name, grab the appropriate info from fips_codes\n",
    "            fips['name_lower'] = fips.state_name.str.lower()\n",
    "            state_sub = fips.query('name_lower == @state')\n",
    "\n",
    "            if state_sub.shape[0] == 0:\n",
    "                raise ValueError(\"You have likely entered an invalid state code, please revise.\")\n",
    "            else:\n",
    "                state_fips = state_sub.state_code.unique()[0]\n",
    "            \n",
    "                print(f\"Using FIPS code '{state_fips}' for input '{original_input}'\")\n",
    "                return state_fips\n",
    "            "
   ]
  }
 ],
 "metadata": {
  "kernelspec": {
   "display_name": "Python 3.6.10 ('geo36')",
   "language": "python",
   "name": "python3"
  }
 },
 "nbformat": 4,
 "nbformat_minor": 4
}
