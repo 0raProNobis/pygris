{
 "cells": [
  {
   "cell_type": "code",
   "execution_count": null,
   "metadata": {},
   "outputs": [],
   "source": [
    "#| default_exp enumeration_units"
   ]
  },
  {
   "cell_type": "markdown",
   "metadata": {},
   "source": [
    "# enumeration_units.py\n",
    "\n",
    "> API details."
   ]
  },
  {
   "cell_type": "code",
   "execution_count": null,
   "metadata": {},
   "outputs": [
    {
     "ename": "ModuleNotFoundError",
     "evalue": "No module named 'nbdev'",
     "output_type": "error",
     "traceback": [
      "\u001b[0;31m---------------------------------------------------------------------------\u001b[0m",
      "\u001b[0;31mModuleNotFoundError\u001b[0m                       Traceback (most recent call last)",
      "\u001b[0;32m<ipython-input-3-7106bed3169c>\u001b[0m in \u001b[0;36m<module>\u001b[0;34m\u001b[0m\n\u001b[1;32m      1\u001b[0m \u001b[0;31m#|hide\u001b[0m\u001b[0;34m\u001b[0m\u001b[0;34m\u001b[0m\u001b[0;34m\u001b[0m\u001b[0m\n\u001b[0;32m----> 2\u001b[0;31m \u001b[0;32mfrom\u001b[0m \u001b[0mnbdev\u001b[0m\u001b[0;34m.\u001b[0m\u001b[0mshowdoc\u001b[0m \u001b[0;32mimport\u001b[0m \u001b[0;34m*\u001b[0m\u001b[0;34m\u001b[0m\u001b[0;34m\u001b[0m\u001b[0m\n\u001b[0m",
      "\u001b[0;31mModuleNotFoundError\u001b[0m: No module named 'nbdev'"
     ]
    }
   ],
   "source": [
    "#|hide\n",
    "from nbdev.showdoc import *"
   ]
  },
  {
   "cell_type": "code",
   "execution_count": null,
   "metadata": {},
   "outputs": [],
   "source": [
    "#| export\n",
    "from pygris.helpers import load_tiger, validate_state, validate_county, fips_codes\n",
    "import pandas as pd\n",
    "def counties(state = None, cb = False, resolution = '500k', year = None, cache = False):\n",
    "    if year is None:\n",
    "        print(\"Using the default year of 2020\")\n",
    "        year = 2020\n",
    "    \n",
    "    if resolution not in ['500k', '5m', '20m']:\n",
    "        raise ValueError(\"Invalid value for resolution. Valid values are '500k', '5m', and '20m'.\")\n",
    "    \n",
    "    if cb is True:\n",
    "        if year in [1990, 2000]:\n",
    "            yr = str(year)[2:]\n",
    "            url = f\"https://www2.census.gov/geo/tiger/PREVGENZ/co/co{yr}shp/co99_d{yr}_shp.zip\"\n",
    "        elif year == 2010:\n",
    "            url = f\"https://www2.census.gov/geo/tiger/GENZ2010/gz_2010_us_050_00_{resolution}.zip\"\n",
    "        elif year in [2011, 2012]:\n",
    "            url = f\"https://www2.census.gov/geo/tiger/GENZ{year}/cb_{year}_us_county_{resolution}.zip\"            \n",
    "        else:\n",
    "            url = f\"https://www2.census.gov/geo/tiger/GENZ{year}/shp/cb_{year}_us_county_{resolution}.zip\"\n",
    "            \n",
    "    else:\n",
    "        if year == 1990:\n",
    "            raise ValueError(\"Please specify `cb = True` to get 1990 data.\")\n",
    "        elif year in [2000, 2010]:\n",
    "            yr = str(year)[2:]\n",
    "            url = f\"https://www2.census.gov/geo/tiger/TIGER2010/COUNTY/{year}/tl_2010_us_county{yr}.zip\"\n",
    "        else:\n",
    "            url = f\"https://www2.census.gov/geo/tiger/TIGER{year}/COUNTY/tl_{year}_us_county.zip\"\n",
    "\n",
    "    ctys = load_tiger(url, cache = cache)\n",
    "\n",
    "    if state is not None:\n",
    "        if type(state) is not list:\n",
    "            state = [state]\n",
    "        valid_state = [validate_state(x) for x in state]\n",
    "        ctys = ctys.query('STATEFP in @valid_state')\n",
    "\n",
    "    return ctys"
   ]
  },
  {
   "cell_type": "code",
   "execution_count": null,
   "metadata": {},
   "outputs": [],
   "source": [
    "#|export\n",
    "def tracts(state = None, county = None, cb = False, year = None, cache = False):\n",
    "    if year is None:\n",
    "        print(\"Using the default year of 2020\")\n",
    "        year = 2020\n",
    "\n",
    "    if state is None:\n",
    "        if year > 2018 and cb is True:\n",
    "            state = 'us'\n",
    "            print(\"Retrieving Census tracts for the entire United States\")\n",
    "        else:\n",
    "            raise ValueError(\"A state is required for this year/dataset combination.\")\n",
    "    else:\n",
    "        state = validate_state(state)\n",
    "    \n",
    "    if cb is True:\n",
    "        if year in [1990, 2000]:\n",
    "            suf = str(year)[2:]\n",
    "            url = f\"https://www2.census.gov/geo/tiger/PREVGENZ/tr/tr{suf}shp/tr{state}_d{suf}_shp.zip\"\n",
    "        elif year == 2010:\n",
    "            url = f\"https://www2.census.gov/geo/tiger/GENZ2010/gz_2010_{state}_140_00_500k.zip\"\n",
    "        elif year > 2013:\n",
    "            url = f\"https://www2.census.gov/geo/tiger/GENZ{year}/shp/cb_{year}_{state}_tract_500k.zip\"\n",
    "        else:\n",
    "            url = f\"https://www2.census.gov/geo/tiger/GENZ{year}/cb_{year}_{state}_tract_500k.zip\"\n",
    "    else:\n",
    "        if year == 1990:\n",
    "            raise ValueError(\"Please specify `cb = True` to get 1990 data.\")\n",
    "        elif year in [2000, 2010]:\n",
    "            suf = str(year)[2:]\n",
    "            url = f\"https://www2.census.gov/geo/tiger/TIGER2010/TRACT/{year}/tl_2010_{state}_tract{suf}.zip\"\n",
    "        else:\n",
    "            url = f\"https://www2.census.gov/geo/tiger/TIGER{year}/TRACT/tl_{year}_{state}_tract.zip\"\n",
    "\n",
    "    trcts = load_tiger(url, cache = cache)\n",
    "\n",
    "    if county is not None:\n",
    "        if type(county) is not list:\n",
    "            county = [county]\n",
    "        valid_county = [validate_county(state, x) for x in county]\n",
    "        trcts = trcts.query('COUNTYFP in @valid_county')\n",
    "\n",
    "    return trcts\n"
   ]
  }
 ],
 "metadata": {
  "kernelspec": {
   "display_name": "Python 3.10.5 ('tigris')",
   "language": "python",
   "name": "python3"
  }
 },
 "nbformat": 4,
 "nbformat_minor": 2
}
